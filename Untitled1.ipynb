{
  "nbformat": 4,
  "nbformat_minor": 0,
  "metadata": {
    "colab": {
      "name": "Untitled1.ipynb",
      "version": "0.3.2",
      "provenance": []
    },
    "kernelspec": {
      "name": "python3",
      "display_name": "Python 3"
    }
  },
  "cells": [
    {
      "metadata": {
        "id": "9HRqoXFSUWBj",
        "colab_type": "code",
        "colab": {}
      },
      "cell_type": "code",
      "source": [
        "import numpy as np\n",
        "import tflearn\n",
        "from tflearn.datasets import mnist"
      ],
      "execution_count": 0,
      "outputs": []
    },
    {
      "metadata": {
        "id": "seKMu114UwNS",
        "colab_type": "code",
        "outputId": "cedb4dd3-f927-4135-8039-938028bf72c1",
        "colab": {
          "base_uri": "https://localhost:8080/",
          "height": 85
        }
      },
      "cell_type": "code",
      "source": [
        "MNIST_data=mnist.read_data_sets(one_hot=True)"
      ],
      "execution_count": 0,
      "outputs": [
        {
          "output_type": "stream",
          "text": [
            "Extracting mnist/train-images-idx3-ubyte.gz\n",
            "Extracting mnist/train-labels-idx1-ubyte.gz\n",
            "Extracting mnist/t10k-images-idx3-ubyte.gz\n",
            "Extracting mnist/t10k-labels-idx1-ubyte.gz\n"
          ],
          "name": "stdout"
        }
      ]
    },
    {
      "metadata": {
        "id": "10NXUt05X1Vi",
        "colab_type": "code",
        "colab": {}
      },
      "cell_type": "code",
      "source": [
        "training_data=MNIST_data.train\n",
        "validation_data=MNIST_data.validation\n",
        "testing_data=MNIST_data.test"
      ],
      "execution_count": 0,
      "outputs": []
    },
    {
      "metadata": {
        "id": "QocdxhFIYJV2",
        "colab_type": "code",
        "colab": {}
      },
      "cell_type": "code",
      "source": [
        "X,y=training_data._images,training_data._labels\n",
        "X_test,y_test=testing_data._images,testing_data._labels"
      ],
      "execution_count": 0,
      "outputs": []
    },
    {
      "metadata": {
        "id": "S6MKFbWMY30w",
        "colab_type": "code",
        "outputId": "3481f274-f1fb-4866-f158-d0f1cfb56064",
        "colab": {
          "base_uri": "https://localhost:8080/",
          "height": 88
        }
      },
      "cell_type": "code",
      "source": [
        "tflearn.init_graph(num_cores=4)\n",
        "net=tflearn.input_data(shape=[None,784])\n",
        "net=tflearn.fully_connected(net,120,activation='relu')\n",
        "net=tflearn.fully_connected(net,120,activation='relu')\n",
        "net=tflearn.fully_connected(net,10,activation='softmax')\n",
        "\n",
        "net=tflearn.regression(net,loss='categorical_crossentropy',optimizer='adam')\n",
        "\n",
        "model=tflearn.DNN(net)\n"
      ],
      "execution_count": 0,
      "outputs": [
        {
          "output_type": "stream",
          "text": [
            "WARNING:tensorflow:From /usr/local/lib/python3.6/dist-packages/tflearn/objectives.py:66: calling reduce_sum (from tensorflow.python.ops.math_ops) with keep_dims is deprecated and will be removed in a future version.\n",
            "Instructions for updating:\n",
            "keep_dims is deprecated, use keepdims instead\n"
          ],
          "name": "stdout"
        }
      ]
    },
    {
      "metadata": {
        "id": "Ovd6JTyWiQTF",
        "colab_type": "code",
        "outputId": "694d512f-f712-4334-a109-e3c96994cc91",
        "colab": {
          "base_uri": "https://localhost:8080/",
          "height": 119
        }
      },
      "cell_type": "code",
      "source": [
        "model.fit(X,y,n_epoch=1,batch_size=10,show_metric=True)\n",
        "model.evaluate(X_test,y_test,batch_size=10)"
      ],
      "execution_count": 9,
      "outputs": [
        {
          "output_type": "stream",
          "text": [
            "Training Step: 16499  | total loss: \u001b[1m\u001b[32m0.08183\u001b[0m\u001b[0m | time: 35.041s\n",
            "| Adam | epoch: 003 | loss: 0.08183 - acc: 0.9653 -- iter: 54990/55000\n",
            "Training Step: 16500  | total loss: \u001b[1m\u001b[32m0.10177\u001b[0m\u001b[0m | time: 35.048s\n",
            "| Adam | epoch: 003 | loss: 0.10177 - acc: 0.9588 -- iter: 55000/55000\n",
            "--\n"
          ],
          "name": "stdout"
        },
        {
          "output_type": "execute_result",
          "data": {
            "text/plain": [
              "[0.9705999948978424]"
            ]
          },
          "metadata": {
            "tags": []
          },
          "execution_count": 9
        }
      ]
    }
  ]
}